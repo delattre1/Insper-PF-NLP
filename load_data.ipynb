{
 "cells": [
  {
   "cell_type": "code",
   "execution_count": 50,
   "metadata": {},
   "outputs": [],
   "source": [
    "fpath = 'data/us/pa/bedford-addresses-county.geojson'"
   ]
  },
  {
   "cell_type": "code",
   "execution_count": 51,
   "metadata": {},
   "outputs": [],
   "source": [
    "import pandas as pd\n",
    "import json\n",
    "import os\n",
    "from json.decoder import JSONDecodeError\n"
   ]
  },
  {
   "cell_type": "code",
   "execution_count": 52,
   "metadata": {},
   "outputs": [],
   "source": [
    "# Function to load JSONL file into DataFrame, ignoring rows with errors\n",
    "def load_jsonl_to_dataframe(file_path):\n",
    "    rows = []\n",
    "    with open(file_path, 'r') as file:\n",
    "        for line in file.readlines():\n",
    "            try:\n",
    "                data = json.loads(line)\n",
    "                row = data.get('properties')\n",
    "                rows.append(row)\n",
    "            except:\n",
    "                continue\n",
    "\n",
    "    df = pd.DataFrame(rows)\n",
    "    return df, rows\n",
    "\n",
    "\n",
    "df, rows = load_jsonl_to_dataframe(fpath)\n"
   ]
  },
  {
   "cell_type": "code",
   "execution_count": 48,
   "metadata": {},
   "outputs": [
    {
     "data": {
      "text/html": [
       "<div>\n",
       "<style scoped>\n",
       "    .dataframe tbody tr th:only-of-type {\n",
       "        vertical-align: middle;\n",
       "    }\n",
       "\n",
       "    .dataframe tbody tr th {\n",
       "        vertical-align: top;\n",
       "    }\n",
       "\n",
       "    .dataframe thead th {\n",
       "        text-align: right;\n",
       "    }\n",
       "</style>\n",
       "<table border=\"1\" class=\"dataframe\">\n",
       "  <thead>\n",
       "    <tr style=\"text-align: right;\">\n",
       "      <th></th>\n",
       "      <th>hash</th>\n",
       "      <th>number</th>\n",
       "      <th>street</th>\n",
       "      <th>unit</th>\n",
       "      <th>city</th>\n",
       "      <th>district</th>\n",
       "      <th>region</th>\n",
       "      <th>postcode</th>\n",
       "      <th>id</th>\n",
       "    </tr>\n",
       "  </thead>\n",
       "  <tbody>\n",
       "    <tr>\n",
       "      <th>0</th>\n",
       "      <td>dd7764c67d53daa2</td>\n",
       "      <td>887</td>\n",
       "      <td>W   MATTIE RD</td>\n",
       "      <td></td>\n",
       "      <td>CLEARVILLE</td>\n",
       "      <td>BEDFORD</td>\n",
       "      <td></td>\n",
       "      <td>15535</td>\n",
       "      <td></td>\n",
       "    </tr>\n",
       "    <tr>\n",
       "      <th>1</th>\n",
       "      <td>6a24c0d576e4719f</td>\n",
       "      <td>17101</td>\n",
       "      <td>LINCOLN HWY</td>\n",
       "      <td></td>\n",
       "      <td>BREEZEWOOD</td>\n",
       "      <td>BEDFORD</td>\n",
       "      <td></td>\n",
       "      <td>15533</td>\n",
       "      <td></td>\n",
       "    </tr>\n",
       "    <tr>\n",
       "      <th>2</th>\n",
       "      <td>ab1ecf98a86fe8c7</td>\n",
       "      <td>7609</td>\n",
       "      <td>HYNDMAN RD</td>\n",
       "      <td></td>\n",
       "      <td>BUFFALO MILLS</td>\n",
       "      <td>BEDFORD</td>\n",
       "      <td></td>\n",
       "      <td>15534</td>\n",
       "      <td></td>\n",
       "    </tr>\n",
       "    <tr>\n",
       "      <th>3</th>\n",
       "      <td>d876690d9d7e4adc</td>\n",
       "      <td>467</td>\n",
       "      <td>SHORT CUT RD</td>\n",
       "      <td></td>\n",
       "      <td>ALUM BANK</td>\n",
       "      <td>BEDFORD</td>\n",
       "      <td></td>\n",
       "      <td>15521</td>\n",
       "      <td></td>\n",
       "    </tr>\n",
       "    <tr>\n",
       "      <th>4</th>\n",
       "      <td>7edbe0fb5f60d812</td>\n",
       "      <td>1932</td>\n",
       "      <td>CHALYBEATE RD</td>\n",
       "      <td></td>\n",
       "      <td>BEDFORD</td>\n",
       "      <td>BEDFORD</td>\n",
       "      <td></td>\n",
       "      <td>15522</td>\n",
       "      <td></td>\n",
       "    </tr>\n",
       "    <tr>\n",
       "      <th>...</th>\n",
       "      <td>...</td>\n",
       "      <td>...</td>\n",
       "      <td>...</td>\n",
       "      <td>...</td>\n",
       "      <td>...</td>\n",
       "      <td>...</td>\n",
       "      <td>...</td>\n",
       "      <td>...</td>\n",
       "      <td>...</td>\n",
       "    </tr>\n",
       "    <tr>\n",
       "      <th>28347</th>\n",
       "      <td>078dc174f6533c5c</td>\n",
       "      <td>172</td>\n",
       "      <td>FRIENDSHIP VILLAGE RD</td>\n",
       "      <td>104</td>\n",
       "      <td>BEDFORD</td>\n",
       "      <td>BEDFORD</td>\n",
       "      <td></td>\n",
       "      <td>15522</td>\n",
       "      <td></td>\n",
       "    </tr>\n",
       "    <tr>\n",
       "      <th>28348</th>\n",
       "      <td>2249041fecaa1ead</td>\n",
       "      <td>1427</td>\n",
       "      <td>TULLS HILL RD</td>\n",
       "      <td></td>\n",
       "      <td>BEDFORD</td>\n",
       "      <td>BEDFORD</td>\n",
       "      <td></td>\n",
       "      <td>15522</td>\n",
       "      <td></td>\n",
       "    </tr>\n",
       "    <tr>\n",
       "      <th>28349</th>\n",
       "      <td>ea9b52ca2658cb40</td>\n",
       "      <td>138</td>\n",
       "      <td>FIREHOUSE RD</td>\n",
       "      <td></td>\n",
       "      <td>BREEZEWOOD</td>\n",
       "      <td>BEDFORD</td>\n",
       "      <td></td>\n",
       "      <td>15533</td>\n",
       "      <td></td>\n",
       "    </tr>\n",
       "    <tr>\n",
       "      <th>28350</th>\n",
       "      <td>3e06ec430cba660a</td>\n",
       "      <td>2610</td>\n",
       "      <td>MOUNTAIN RD</td>\n",
       "      <td></td>\n",
       "      <td>IMLER</td>\n",
       "      <td>BEDFORD</td>\n",
       "      <td></td>\n",
       "      <td>16655</td>\n",
       "      <td></td>\n",
       "    </tr>\n",
       "    <tr>\n",
       "      <th>28351</th>\n",
       "      <td>baf2e9653daac602</td>\n",
       "      <td>114</td>\n",
       "      <td>FORT DEWART LN</td>\n",
       "      <td></td>\n",
       "      <td>SCHELLSBURG</td>\n",
       "      <td>BEDFORD</td>\n",
       "      <td></td>\n",
       "      <td>15559</td>\n",
       "      <td></td>\n",
       "    </tr>\n",
       "  </tbody>\n",
       "</table>\n",
       "<p>28352 rows × 9 columns</p>\n",
       "</div>"
      ],
      "text/plain": [
       "                   hash number                 street unit           city  \\\n",
       "0      dd7764c67d53daa2    887          W   MATTIE RD          CLEARVILLE   \n",
       "1      6a24c0d576e4719f  17101            LINCOLN HWY          BREEZEWOOD   \n",
       "2      ab1ecf98a86fe8c7   7609             HYNDMAN RD       BUFFALO MILLS   \n",
       "3      d876690d9d7e4adc    467           SHORT CUT RD           ALUM BANK   \n",
       "4      7edbe0fb5f60d812   1932          CHALYBEATE RD             BEDFORD   \n",
       "...                 ...    ...                    ...  ...            ...   \n",
       "28347  078dc174f6533c5c    172  FRIENDSHIP VILLAGE RD  104        BEDFORD   \n",
       "28348  2249041fecaa1ead   1427          TULLS HILL RD             BEDFORD   \n",
       "28349  ea9b52ca2658cb40    138           FIREHOUSE RD          BREEZEWOOD   \n",
       "28350  3e06ec430cba660a   2610            MOUNTAIN RD               IMLER   \n",
       "28351  baf2e9653daac602    114         FORT DEWART LN         SCHELLSBURG   \n",
       "\n",
       "      district region postcode id  \n",
       "0      BEDFORD           15535     \n",
       "1      BEDFORD           15533     \n",
       "2      BEDFORD           15534     \n",
       "3      BEDFORD           15521     \n",
       "4      BEDFORD           15522     \n",
       "...        ...    ...      ... ..  \n",
       "28347  BEDFORD           15522     \n",
       "28348  BEDFORD           15522     \n",
       "28349  BEDFORD           15533     \n",
       "28350  BEDFORD           16655     \n",
       "28351  BEDFORD           15559     \n",
       "\n",
       "[28352 rows x 9 columns]"
      ]
     },
     "execution_count": 48,
     "metadata": {},
     "output_type": "execute_result"
    }
   ],
   "source": [
    "df"
   ]
  },
  {
   "cell_type": "code",
   "execution_count": 53,
   "metadata": {},
   "outputs": [],
   "source": [
    "# Load all JSONL files into DataFrames, ignoring files with errors\n",
    "us_folder_path = 'data/us/'\n",
    "\n",
    "dfs = []  # List to store DataFrames\n",
    "    break\n",
    "    for file in files:\n",
    "        if file.endswith('.jsonl'):\n",
    "            file_path = os.path.join(root, file)\n",
    "            try:\n",
    "                df = load_jsonl_to_dataframe(file_path)\n",
    "                dfs.append(df)\n",
    "            except:\n",
    "                continue"
   ]
  },
  {
   "cell_type": "code",
   "execution_count": 54,
   "metadata": {},
   "outputs": [
    {
     "data": {
      "text/plain": [
       "'data/us/'"
      ]
     },
     "execution_count": 54,
     "metadata": {},
     "output_type": "execute_result"
    }
   ],
   "source": [
    "root"
   ]
  },
  {
   "cell_type": "code",
   "execution_count": 55,
   "metadata": {},
   "outputs": [
    {
     "data": {
      "text/plain": [
       "['nh', 'vt', 'ma', 'nj', 'ri', 'ct', 'ny', 'me', 'pa']"
      ]
     },
     "execution_count": 55,
     "metadata": {},
     "output_type": "execute_result"
    }
   ],
   "source": [
    "dirs"
   ]
  },
  {
   "cell_type": "code",
   "execution_count": 56,
   "metadata": {},
   "outputs": [
    {
     "data": {
      "text/plain": [
       "[]"
      ]
     },
     "execution_count": 56,
     "metadata": {},
     "output_type": "execute_result"
    }
   ],
   "source": [
    "files"
   ]
  },
  {
   "cell_type": "code",
   "execution_count": 60,
   "metadata": {},
   "outputs": [
    {
     "ename": "ValueError",
     "evalue": "not enough values to unpack (expected 3, got 1)",
     "output_type": "error",
     "traceback": [
      "\u001b[0;31m---------------------------------------------------------------------------\u001b[0m",
      "\u001b[0;31mValueError\u001b[0m                                Traceback (most recent call last)",
      "Cell \u001b[0;32mIn[60], line 1\u001b[0m\n\u001b[0;32m----> 1\u001b[0m root, dirs, files \u001b[39m=\u001b[39m os\u001b[39m.\u001b[39mwalk(us_folder_path \u001b[39m+\u001b[39m \u001b[39m'\u001b[39m\u001b[39mnh\u001b[39m\u001b[39m'\u001b[39m)\n",
      "\u001b[0;31mValueError\u001b[0m: not enough values to unpack (expected 3, got 1)"
     ]
    }
   ],
   "source": [
    "root, dirs, files = os.walk(us_folder_path + 'nh')"
   ]
  },
  {
   "cell_type": "code",
   "execution_count": null,
   "metadata": {},
   "outputs": [],
   "source": [
    "for root, dirs, files in os.walk(us_folder_path):\n",
    "    for file in files:"
   ]
  }
 ],
 "metadata": {
  "kernelspec": {
   "display_name": "Python 3",
   "language": "python",
   "name": "python3"
  },
  "language_info": {
   "codemirror_mode": {
    "name": "ipython",
    "version": 3
   },
   "file_extension": ".py",
   "mimetype": "text/x-python",
   "name": "python",
   "nbconvert_exporter": "python",
   "pygments_lexer": "ipython3",
   "version": "3.10.10"
  },
  "orig_nbformat": 4
 },
 "nbformat": 4,
 "nbformat_minor": 2
}
