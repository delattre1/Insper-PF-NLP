{
 "cells": [
  {
   "cell_type": "code",
   "execution_count": 14,
   "metadata": {},
   "outputs": [],
   "source": [
    "#pip install deepparse"
   ]
  },
  {
   "cell_type": "code",
   "execution_count": 15,
   "metadata": {},
   "outputs": [],
   "source": [
    "from deepparse.parser import AddressParser"
   ]
  },
  {
   "cell_type": "code",
   "execution_count": 16,
   "metadata": {},
   "outputs": [
    {
     "name": "stdout",
     "output_type": "stream",
     "text": [
      "Loading the embeddings model\n"
     ]
    }
   ],
   "source": [
    "address_parser = AddressParser(model_type='bpemb')"
   ]
  },
  {
   "cell_type": "code",
   "execution_count": 17,
   "metadata": {},
   "outputs": [
    {
     "data": {
      "text/plain": [
       "0    5006\n",
       "1    4994\n",
       "Name: is_address, dtype: int64"
      ]
     },
     "execution_count": 17,
     "metadata": {},
     "output_type": "execute_result"
    }
   ],
   "source": [
    "import numpy as np\n",
    "import pandas as pd \n",
    "df = pd.read_csv('data/addresses_and_tweets.csv')\n",
    "df = df.drop_duplicates(subset='text').reset_index(drop=True)\n",
    "\n",
    "def balance_classes(df, column_name):\n",
    "    \"\"\"Balance the classes of a binary column in a dataframe.\"\"\"\n",
    "    counts = df[column_name].value_counts()\n",
    "    # Check if classes are already balanced\n",
    "    if counts.min() == counts.max():\n",
    "        return df\n",
    "    # Identify majority and minority classes\n",
    "    majority_class = counts.idxmax()\n",
    "    minority_class = counts.idxmin()\n",
    "    # Randomly select instances from majority class to remove\n",
    "    majority_indices = df[df[column_name] == majority_class].index\n",
    "    num_instances_to_remove = len(majority_indices) - counts[minority_class]\n",
    "    indices_to_remove = np.random.choice(majority_indices, size=num_instances_to_remove, replace=False)\n",
    "    # Remove instances from majority class\n",
    "    df = df.drop(indices_to_remove)\n",
    "    return df.reset_index(drop=True)\n",
    "\n",
    "df = balance_classes(df, 'is_address').sample(10000)[['text', 'is_address']]\n",
    "df.is_address.value_counts()\n"
   ]
  },
  {
   "cell_type": "code",
   "execution_count": 18,
   "metadata": {},
   "outputs": [
    {
     "data": {
      "text/html": [
       "<div>\n",
       "<style scoped>\n",
       "    .dataframe tbody tr th:only-of-type {\n",
       "        vertical-align: middle;\n",
       "    }\n",
       "\n",
       "    .dataframe tbody tr th {\n",
       "        vertical-align: top;\n",
       "    }\n",
       "\n",
       "    .dataframe thead th {\n",
       "        text-align: right;\n",
       "    }\n",
       "</style>\n",
       "<table border=\"1\" class=\"dataframe\">\n",
       "  <thead>\n",
       "    <tr style=\"text-align: right;\">\n",
       "      <th></th>\n",
       "      <th>text</th>\n",
       "      <th>is_address</th>\n",
       "    </tr>\n",
       "  </thead>\n",
       "  <tbody>\n",
       "    <tr>\n",
       "      <th>1409529</th>\n",
       "      <td>199 faywood avenue apt 281    02128</td>\n",
       "      <td>1</td>\n",
       "    </tr>\n",
       "    <tr>\n",
       "      <th>733080</th>\n",
       "      <td>sending a thanks to mother nature for the thun...</td>\n",
       "      <td>0</td>\n",
       "    </tr>\n",
       "    <tr>\n",
       "      <th>236105</th>\n",
       "      <td>@purelibertine awww, my poor little baby</td>\n",
       "      <td>0</td>\n",
       "    </tr>\n",
       "    <tr>\n",
       "      <th>1511307</th>\n",
       "      <td>11 woodcliff street apt 211    02125</td>\n",
       "      <td>1</td>\n",
       "    </tr>\n",
       "    <tr>\n",
       "      <th>126505</th>\n",
       "      <td>staying awake for apparently no reason.</td>\n",
       "      <td>0</td>\n",
       "    </tr>\n",
       "    <tr>\n",
       "      <th>...</th>\n",
       "      <td>...</td>\n",
       "      <td>...</td>\n",
       "    </tr>\n",
       "    <tr>\n",
       "      <th>1327203</th>\n",
       "      <td>108 washington street 6    02135</td>\n",
       "      <td>1</td>\n",
       "    </tr>\n",
       "    <tr>\n",
       "      <th>143708</th>\n",
       "      <td>where's my picture?</td>\n",
       "      <td>0</td>\n",
       "    </tr>\n",
       "    <tr>\n",
       "      <th>1133137</th>\n",
       "      <td>19 harvest ln  hartford windsor vt 05001</td>\n",
       "      <td>1</td>\n",
       "    </tr>\n",
       "    <tr>\n",
       "      <th>1260133</th>\n",
       "      <td>14 hackensack circle     02467</td>\n",
       "      <td>1</td>\n",
       "    </tr>\n",
       "    <tr>\n",
       "      <th>223658</th>\n",
       "      <td>wow, i finally read what i twittered on my bda...</td>\n",
       "      <td>0</td>\n",
       "    </tr>\n",
       "  </tbody>\n",
       "</table>\n",
       "<p>10000 rows × 2 columns</p>\n",
       "</div>"
      ],
      "text/plain": [
       "                                                      text  is_address\n",
       "1409529               199 faywood avenue apt 281    02128            1\n",
       "733080   sending a thanks to mother nature for the thun...           0\n",
       "236105           @purelibertine awww, my poor little baby            0\n",
       "1511307              11 woodcliff street apt 211    02125            1\n",
       "126505            staying awake for apparently no reason.            0\n",
       "...                                                    ...         ...\n",
       "1327203                  108 washington street 6    02135            1\n",
       "143708                                where's my picture?            0\n",
       "1133137          19 harvest ln  hartford windsor vt 05001            1\n",
       "1260133                    14 hackensack circle     02467            1\n",
       "223658   wow, i finally read what i twittered on my bda...           0\n",
       "\n",
       "[10000 rows x 2 columns]"
      ]
     },
     "execution_count": 18,
     "metadata": {},
     "output_type": "execute_result"
    }
   ],
   "source": [
    "df"
   ]
  },
  {
   "cell_type": "code",
   "execution_count": 19,
   "metadata": {},
   "outputs": [],
   "source": [
    "def func_is_address(parsed: dict):\n",
    "    street_number = parsed.get('StreetNumber')\n",
    "    street_name   = parsed.get('StreetName')\n",
    "    postal_code   = parsed.get('PostalCode')    \n",
    "\n",
    "    if (not street_name) or (not street_number) or (not postal_code):\n",
    "        return False\n",
    "    return True\n",
    "\n",
    "def process(text: str):\n",
    "    parsed = address_parser(text)\n",
    "    is_address = func_is_address(parsed=parsed.to_dict())\n",
    "    return is_address\n",
    "\n",
    "df['prediction'] = df['text'].apply(process)\n"
   ]
  },
  {
   "cell_type": "code",
   "execution_count": 20,
   "metadata": {},
   "outputs": [],
   "source": [
    "df['prediction'] = df['prediction'].astype(int)\n"
   ]
  },
  {
   "cell_type": "code",
   "execution_count": 21,
   "metadata": {},
   "outputs": [
    {
     "data": {
      "text/html": [
       "<div>\n",
       "<style scoped>\n",
       "    .dataframe tbody tr th:only-of-type {\n",
       "        vertical-align: middle;\n",
       "    }\n",
       "\n",
       "    .dataframe tbody tr th {\n",
       "        vertical-align: top;\n",
       "    }\n",
       "\n",
       "    .dataframe thead th {\n",
       "        text-align: right;\n",
       "    }\n",
       "</style>\n",
       "<table border=\"1\" class=\"dataframe\">\n",
       "  <thead>\n",
       "    <tr style=\"text-align: right;\">\n",
       "      <th></th>\n",
       "      <th>text</th>\n",
       "      <th>is_address</th>\n",
       "      <th>prediction</th>\n",
       "    </tr>\n",
       "  </thead>\n",
       "  <tbody>\n",
       "    <tr>\n",
       "      <th>1409529</th>\n",
       "      <td>199 faywood avenue apt 281    02128</td>\n",
       "      <td>1</td>\n",
       "      <td>1</td>\n",
       "    </tr>\n",
       "    <tr>\n",
       "      <th>733080</th>\n",
       "      <td>sending a thanks to mother nature for the thun...</td>\n",
       "      <td>0</td>\n",
       "      <td>0</td>\n",
       "    </tr>\n",
       "    <tr>\n",
       "      <th>236105</th>\n",
       "      <td>@purelibertine awww, my poor little baby</td>\n",
       "      <td>0</td>\n",
       "      <td>0</td>\n",
       "    </tr>\n",
       "    <tr>\n",
       "      <th>1511307</th>\n",
       "      <td>11 woodcliff street apt 211    02125</td>\n",
       "      <td>1</td>\n",
       "      <td>1</td>\n",
       "    </tr>\n",
       "    <tr>\n",
       "      <th>126505</th>\n",
       "      <td>staying awake for apparently no reason.</td>\n",
       "      <td>0</td>\n",
       "      <td>0</td>\n",
       "    </tr>\n",
       "    <tr>\n",
       "      <th>...</th>\n",
       "      <td>...</td>\n",
       "      <td>...</td>\n",
       "      <td>...</td>\n",
       "    </tr>\n",
       "    <tr>\n",
       "      <th>1327203</th>\n",
       "      <td>108 washington street 6    02135</td>\n",
       "      <td>1</td>\n",
       "      <td>1</td>\n",
       "    </tr>\n",
       "    <tr>\n",
       "      <th>143708</th>\n",
       "      <td>where's my picture?</td>\n",
       "      <td>0</td>\n",
       "      <td>0</td>\n",
       "    </tr>\n",
       "    <tr>\n",
       "      <th>1133137</th>\n",
       "      <td>19 harvest ln  hartford windsor vt 05001</td>\n",
       "      <td>1</td>\n",
       "      <td>1</td>\n",
       "    </tr>\n",
       "    <tr>\n",
       "      <th>1260133</th>\n",
       "      <td>14 hackensack circle     02467</td>\n",
       "      <td>1</td>\n",
       "      <td>1</td>\n",
       "    </tr>\n",
       "    <tr>\n",
       "      <th>223658</th>\n",
       "      <td>wow, i finally read what i twittered on my bda...</td>\n",
       "      <td>0</td>\n",
       "      <td>0</td>\n",
       "    </tr>\n",
       "  </tbody>\n",
       "</table>\n",
       "<p>10000 rows × 3 columns</p>\n",
       "</div>"
      ],
      "text/plain": [
       "                                                      text  is_address  \\\n",
       "1409529               199 faywood avenue apt 281    02128            1   \n",
       "733080   sending a thanks to mother nature for the thun...           0   \n",
       "236105           @purelibertine awww, my poor little baby            0   \n",
       "1511307              11 woodcliff street apt 211    02125            1   \n",
       "126505            staying awake for apparently no reason.            0   \n",
       "...                                                    ...         ...   \n",
       "1327203                  108 washington street 6    02135            1   \n",
       "143708                                where's my picture?            0   \n",
       "1133137          19 harvest ln  hartford windsor vt 05001            1   \n",
       "1260133                    14 hackensack circle     02467            1   \n",
       "223658   wow, i finally read what i twittered on my bda...           0   \n",
       "\n",
       "         prediction  \n",
       "1409529           1  \n",
       "733080            0  \n",
       "236105            0  \n",
       "1511307           1  \n",
       "126505            0  \n",
       "...             ...  \n",
       "1327203           1  \n",
       "143708            0  \n",
       "1133137           1  \n",
       "1260133           1  \n",
       "223658            0  \n",
       "\n",
       "[10000 rows x 3 columns]"
      ]
     },
     "execution_count": 21,
     "metadata": {},
     "output_type": "execute_result"
    }
   ],
   "source": [
    "df"
   ]
  },
  {
   "cell_type": "code",
   "execution_count": 22,
   "metadata": {},
   "outputs": [
    {
     "data": {
      "image/png": "[encoded data removed]",
      "text/plain": [
       "<Figure size 640x480 with 2 Axes>"
      ]
     },
     "metadata": {},
     "output_type": "display_data"
    }
   ],
   "source": [
    "import numpy as np\n",
    "import matplotlib.pyplot as plt\n",
    "import itertools\n",
    "from sklearn.metrics import confusion_matrix\n",
    "y_true = df['is_address']\n",
    "y_pred = df['prediction']\n",
    "cm = confusion_matrix(y_true, y_pred)\n",
    "\n",
    "def plot_confusion_matrix(cm, classes,\n",
    "                          title='Confusion matrix',\n",
    "                          cmap=plt.cm.Blues):\n",
    "    \"\"\"\n",
    "    This function prints and plots the confusion matrix.\n",
    "    Normalization can be applied by setting `normalize=True`.\n",
    "    \"\"\"\n",
    "\n",
    "    cm = cm.astype('float') / cm.sum(axis=1)[:, np.newaxis]\n",
    "\n",
    "    plt.imshow(cm, interpolation='nearest', cmap=cmap)\n",
    "    plt.title(title, fontsize=20)\n",
    "    plt.colorbar()\n",
    "    tick_marks = np.arange(len(classes))\n",
    "    plt.xticks(tick_marks, classes, fontsize=13)\n",
    "    plt.yticks(tick_marks, classes, fontsize=13)\n",
    "\n",
    "    fmt = '.2f'\n",
    "    thresh = cm.max() / 2.\n",
    "    for i, j in itertools.product(range(cm.shape[0]), range(cm.shape[1])):\n",
    "        plt.text(j, i, format(cm[i, j], fmt),\n",
    "                 horizontalalignment=\"center\",\n",
    "                 color=\"white\" if cm[i, j] > thresh else \"black\")\n",
    "\n",
    "    plt.ylabel('True label', fontsize=17)\n",
    "    plt.xlabel('Predicted label', fontsize=17)\n",
    "\n",
    "\n",
    "class_names = ['Non-Address', 'Address']\n",
    "plot_confusion_matrix(cm, classes=class_names, title=\"Confusion Matrix\")\n",
    "plt.show()\n"
   ]
  },
  {
   "cell_type": "code",
   "execution_count": 23,
   "metadata": {},
   "outputs": [
    {
     "name": "stdout",
     "output_type": "stream",
     "text": [
      "AUC:  0.9569636980277252\n"
     ]
    }
   ],
   "source": [
    "\n",
    "from sklearn.feature_extraction.text import CountVectorizer\n",
    "from sklearn.linear_model import LogisticRegression #, SGDClassifier\n",
    "from sklearn.metrics import roc_curve, roc_auc_score, auc\n",
    "\n",
    "y_true = df['is_address']\n",
    "y_pred = df['prediction']\n",
    "\n",
    "print('AUC: ', roc_auc_score(y_true, y_pred))\n",
    "false_positive_rate, true_positive_rate, thresholds = roc_curve(y_true, y_pred)\n",
    "roc_auc = auc(false_positive_rate, true_positive_rate)\n"
   ]
  },
  {
   "cell_type": "code",
   "execution_count": 24,
   "metadata": {},
   "outputs": [
    {
     "data": {
      "image/png": "[encoded data removed]",
      "text/plain": [
       "<Figure size 640x480 with 1 Axes>"
      ]
     },
     "metadata": {},
     "output_type": "display_data"
    }
   ],
   "source": [
    "import matplotlib.pyplot as plt\n",
    "# Plot ROC curve\n",
    "plt.plot(false_positive_rate, true_positive_rate, color='blue', label=f'AUC = {roc_auc:.2f}')\n",
    "plt.plot([0, 1], [0, 1], color='red', linestyle='--')\n",
    "plt.xlabel('False Positive Rate')\n",
    "plt.ylabel('True Positive Rate')\n",
    "plt.title('ROC Curve')\n",
    "plt.legend()\n",
    "plt.show()"
   ]
  },
  {
   "cell_type": "code",
   "execution_count": 25,
   "metadata": {},
   "outputs": [
    {
     "name": "stdout",
     "output_type": "stream",
     "text": [
      "2.09 ms ± 75.2 µs per loop (mean ± std. dev. of 7 runs, 100 loops each)\n"
     ]
    }
   ],
   "source": [
    "%%timeit\n",
    "process('hahah 123')"
   ]
  },
  {
   "cell_type": "code",
   "execution_count": null,
   "metadata": {},
   "outputs": [],
   "source": []
  }
 ],
 "metadata": {
  "kernelspec": {
   "display_name": "Python 3",
   "language": "python",
   "name": "python3"
  },
  "language_info": {
   "codemirror_mode": {
    "name": "ipython",
    "version": 3
   },
   "file_extension": ".py",
   "mimetype": "text/x-python",
   "name": "python",
   "nbconvert_exporter": "python",
   "pygments_lexer": "ipython3",
   "version": "3.11.3"
  },
  "orig_nbformat": 4
 },
 "nbformat": 4,
 "nbformat_minor": 2
}
