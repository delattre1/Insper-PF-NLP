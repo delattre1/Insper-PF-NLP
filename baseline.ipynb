{
 "cells": [
  {
   "cell_type": "code",
   "execution_count": 3,
   "metadata": {},
   "outputs": [],
   "source": [
    "import pandas as pd \n",
    "import numpy as np "
   ]
  },
  {
   "cell_type": "code",
   "execution_count": 4,
   "metadata": {},
   "outputs": [],
   "source": [
    "df = pd.read_csv('data/addresses_and_tweets.csv')"
   ]
  },
  {
   "attachments": {},
   "cell_type": "markdown",
   "metadata": {},
   "source": [
    "# Load data and drop duplicates"
   ]
  },
  {
   "cell_type": "code",
   "execution_count": 5,
   "metadata": {},
   "outputs": [],
   "source": [
    "df = df.drop_duplicates(subset='text').reset_index(drop=True)"
   ]
  },
  {
   "attachments": {},
   "cell_type": "markdown",
   "metadata": {},
   "source": [
    "# Balance"
   ]
  },
  {
   "cell_type": "code",
   "execution_count": 6,
   "metadata": {},
   "outputs": [],
   "source": [
    "def balance_classes(df, column_name):\n",
    "    \"\"\"Balance the classes of a binary column in a dataframe.\"\"\"\n",
    "    counts = df[column_name].value_counts()\n",
    "    # Check if classes are already balanced\n",
    "    if counts.min() == counts.max():\n",
    "        return df\n",
    "    # Identify majority and minority classes\n",
    "    majority_class = counts.idxmax()\n",
    "    minority_class = counts.idxmin()\n",
    "    # Randomly select instances from majority class to remove\n",
    "    majority_indices = df[df[column_name] == majority_class].index\n",
    "    num_instances_to_remove = len(majority_indices) - counts[minority_class]\n",
    "    indices_to_remove = np.random.choice(majority_indices, size=num_instances_to_remove, replace=False)\n",
    "    # Remove instances from majority class\n",
    "    df = df.drop(indices_to_remove)\n",
    "    return df.reset_index(drop=True)\n",
    "\n",
    "df = balance_classes(df, 'is_address')"
   ]
  },
  {
   "cell_type": "code",
   "execution_count": 7,
   "metadata": {},
   "outputs": [
    {
     "data": {
      "text/plain": [
       "is_address\n",
       "0    761548\n",
       "1    761548\n",
       "Name: count, dtype: int64"
      ]
     },
     "execution_count": 7,
     "metadata": {},
     "output_type": "execute_result"
    }
   ],
   "source": [
    "df.is_address.value_counts()"
   ]
  },
  {
   "cell_type": "code",
   "execution_count": 9,
   "metadata": {},
   "outputs": [],
   "source": [
    "from sklearn.model_selection import train_test_split\n",
    "# Split the dataset into a training set and a testing set\n",
    "x_train, x_test, y_train, y_test = train_test_split(df['text'], df['is_address'], test_size=0.4, random_state=42)\n"
   ]
  },
  {
   "attachments": {},
   "cell_type": "markdown",
   "metadata": {},
   "source": [
    "# Logistic Regression"
   ]
  },
  {
   "cell_type": "code",
   "execution_count": 10,
   "metadata": {},
   "outputs": [
    {
     "name": "stdout",
     "output_type": "stream",
     "text": [
      "AUC:  0.9998801797200192\n"
     ]
    }
   ],
   "source": [
    "from sklearn.feature_extraction.text import CountVectorizer\n",
    "from sklearn.linear_model import LogisticRegression #, SGDClassifier\n",
    "from sklearn.metrics import roc_curve, roc_auc_score, auc\n",
    "\n",
    "# Fit the CountVectorizer to the training data\n",
    "vect = CountVectorizer().fit(x_train)\n",
    "\n",
    "# transform the documents in the training data to a document-term matrix\n",
    "x_train_vectorized = vect.transform(x_train)\n",
    "\n",
    "model = LogisticRegression(max_iter=1000)\n",
    "model.fit(x_train_vectorized, y_train)\n",
    "predictions = model.predict(vect.transform(x_test))\n",
    "\n",
    "print('AUC: ', roc_auc_score(y_test, predictions))\n",
    "false_positive_rate, true_positive_rate, thresholds = roc_curve(y_test, predictions)\n",
    "roc_auc = auc(false_positive_rate, true_positive_rate)"
   ]
  },
  {
   "cell_type": "code",
   "execution_count": 12,
   "metadata": {},
   "outputs": [
    {
     "data": {
      "image/png": "[encoded data removed]",
      "text/plain": [
       "<Figure size 640x480 with 1 Axes>"
      ]
     },
     "metadata": {},
     "output_type": "display_data"
    }
   ],
   "source": [
    "import matplotlib.pyplot as plt\n",
    "# Plot ROC curve\n",
    "plt.plot(false_positive_rate, true_positive_rate, color='blue', label=f'AUC = {roc_auc:.2f}')\n",
    "plt.plot([0, 1], [0, 1], color='red', linestyle='--')\n",
    "plt.xlabel('False Positive Rate')\n",
    "plt.ylabel('True Positive Rate')\n",
    "plt.title('ROC Curve')\n",
    "plt.legend()\n",
    "plt.show()"
   ]
  },
  {
   "cell_type": "code",
   "execution_count": 14,
   "metadata": {},
   "outputs": [
    {
     "name": "stdout",
     "output_type": "stream",
     "text": [
      "0 - not_address : i want to feel well again. it's not fair  i'm sick of feeling sick.\n",
      "1 - address     : 425 creek rd  wallingford rutland vt 05773 \n",
      "1 - address     : 20 vine street     02129 \n",
      "0 - not_address : is revising for her french gcse this afternoon  x\n",
      "0 - not_address : i can cry all i want, and i can wish for things to be different. but that won't change reality \n",
      "1 - address     : 474 tremont street apt 38    02118 \n",
      "0 - not_address : http://tinyurl.com/ry9wap hi there! how are you? nice pics  ;) let`s be friends! i can email you some my pictures. please give me your ...\n",
      "1 - address     : 50 point of tongue  alburgh grand isle vt 05440 \n",
      "1 - address     : 78 railroad st  johnson lamoille vt 05656 \n",
      "0 - not_address : @nikki_lopez nobody went out...so i didn't do anything \n",
      "1 - address     : 96 eves dr  londonderry windham vt 05155 \n",
      "1 - address     : 12 horace street     02128 \n",
      "0 - not_address : @wolwol hello wol! thanks for your enthusiastic hello!!!!! \n",
      "1 - address     : 107 homestead street 3    02121 \n",
      "0 - not_address :  schade das es keine italienische weine sind. #bellaitalia #bellatoscana\n",
      "1 - address     : 1 cliffmont street apt 113    02131 \n",
      "0 - not_address : @btcare the line has gone dead again  ... no dialling tone even!!\n",
      "1 - address     : 2816 lost nation rd  east haven essex vt 05837 \n",
      "0 - not_address : laying out relaxing before driving back by myself.   be back sunday for another week. going to miss my nate.\n",
      "0 - not_address : i miss my hubby @delldougs87 hope he's okay n made it home safe.. muah \n"
     ]
    }
   ],
   "source": [
    "for text in df['text'].sample(n=20, random_state=42):\n",
    "    is_address = '1 - address    ' if model.predict(vect.transform([text]))[0] else '0 - not_address'\n",
    "    print(f'{is_address} : {text}')"
   ]
  },
  {
   "cell_type": "code",
   "execution_count": 16,
   "metadata": {},
   "outputs": [
    {
     "data": {
      "text/plain": [
       "['output/lr_cvectorizer.joblib']"
      ]
     },
     "execution_count": 16,
     "metadata": {},
     "output_type": "execute_result"
    }
   ],
   "source": [
    "import joblib\n",
    "\n",
    "# Save the trained model\n",
    "joblib.dump(model, f'output/lr_model.pkl')\n",
    "joblib.dump(vect,  f'output/lr_cvectorizer.joblib')"
   ]
  },
  {
   "cell_type": "code",
   "execution_count": 2,
   "metadata": {},
   "outputs": [],
   "source": [
    "import joblib\n",
    "model = joblib.load(f'output/lr_model.pkl')\n",
    "vect  = joblib.load(f'output/lr_cvectorizer.joblib')"
   ]
  },
  {
   "cell_type": "code",
   "execution_count": 5,
   "metadata": {},
   "outputs": [
    {
     "name": "stdout",
     "output_type": "stream",
     "text": [
      "72.5 µs ± 132 ns per loop (mean ± std. dev. of 7 runs, 10,000 loops each)\n"
     ]
    }
   ],
   "source": [
    "%%timeit\n",
    "predictions = model.predict(vect.transform(['hahah test 123']))"
   ]
  },
  {
   "cell_type": "code",
   "execution_count": null,
   "metadata": {},
   "outputs": [],
   "source": []
  }
 ],
 "metadata": {
  "kernelspec": {
   "display_name": "Python 3",
   "language": "python",
   "name": "python3"
  },
  "language_info": {
   "codemirror_mode": {
    "name": "ipython",
    "version": 3
   },
   "file_extension": ".py",
   "mimetype": "text/x-python",
   "name": "python",
   "nbconvert_exporter": "python",
   "pygments_lexer": "ipython3",
   "version": "3.11.3"
  },
  "orig_nbformat": 4
 },
 "nbformat": 4,
 "nbformat_minor": 2
}
